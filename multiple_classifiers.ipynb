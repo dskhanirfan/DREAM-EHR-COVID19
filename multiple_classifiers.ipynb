{
 "cells": [
  {
   "cell_type": "code",
   "execution_count": 1,
   "metadata": {},
   "outputs": [],
   "source": [
    "import pandas as pd\n",
    "pd.set_option('display.max_columns', 500)\n",
    "from sklearn import preprocessing\n",
    "\n",
    "from sklearn import model_selection\n",
    "from sklearn.linear_model import LogisticRegression\n",
    "from sklearn.tree import DecisionTreeClassifier\n",
    "from sklearn.neighbors import KNeighborsClassifier\n",
    "from sklearn.discriminant_analysis import LinearDiscriminantAnalysis\n",
    "from sklearn.naive_bayes import GaussianNB\n",
    "from sklearn.svm import SVC\n",
    "from sklearn.ensemble import GradientBoostingClassifier\n",
    "from sklearn.metrics import classification_report, confusion_matrix, roc_curve, auc\n",
    "from sklearn.ensemble import RandomForestClassifier\n",
    "from sklearn.neural_network import MLPClassifier\n",
    "from sklearn.utils import class_weight\n",
    "from sklearn.model_selection import cross_val_score\n",
    "from sklearn.model_selection import KFold\n",
    "from sklearn.preprocessing import LabelEncoder\n",
    "from sklearn.metrics import accuracy_score\n",
    "from sklearn.model_selection import train_test_split, RandomizedSearchCV\n",
    "\n",
    "\n",
    "from scipy import interp\n",
    "from scipy.stats import randint as sp_randint\n",
    "from scipy.stats import uniform as sp_randuni\n",
    "#from keras.wrappers.scikit_learn import KerasClassifier\n",
    "\n",
    "\n",
    "import numpy as np\n",
    "import seaborn as sns\n",
    "import matplotlib.pyplot as plt\n",
    "#%matplotlib inline"
   ]
  },
  {
   "cell_type": "code",
   "execution_count": 2,
   "metadata": {},
   "outputs": [
    {
     "name": "stdout",
     "output_type": "stream",
     "text": [
      " dataset has 9134 samples with 6305 features each.\n"
     ]
    }
   ],
   "source": [
    "# load the car data dataset\n",
    "try:\n",
    "    data = pd.read_csv(\"mydata.csv\", delimiter=\",\")\n",
    "    print(\" dataset has {} samples with {} features each.\".format(*data.shape))\n",
    "except:\n",
    "    print(\"Dataset could not be loaded. Is the dataset missing?\")"
   ]
  },
  {
   "cell_type": "code",
   "execution_count": 3,
   "metadata": {},
   "outputs": [
    {
     "data": {
      "text/plain": [
       "True     4032\n",
       "False    2273\n",
       "dtype: int64"
      ]
     },
     "execution_count": 3,
     "metadata": {},
     "output_type": "execute_result"
    }
   ],
   "source": [
    "np.isnan(data).any().value_counts()"
   ]
  },
  {
   "cell_type": "code",
   "execution_count": 4,
   "metadata": {},
   "outputs": [],
   "source": [
    "#data = data.fillna(0)\n",
    "data.replace(np.nan, 0, inplace=True)\n"
   ]
  },
  {
   "cell_type": "code",
   "execution_count": 5,
   "metadata": {},
   "outputs": [],
   "source": [
    "#from sklearn.impute import SimpleImputer\n",
    "#imp = SimpleImputer(missing_values='NaN', strategy='median')#, axis=1)\n",
    "#imp.fit(data)\n",
    "#data = imp.fit_transform(data)"
   ]
  },
  {
   "cell_type": "code",
   "execution_count": 6,
   "metadata": {},
   "outputs": [
    {
     "data": {
      "text/plain": [
       "Unnamed: 0                       0.0\n",
       "person_id                        0.0\n",
       "age                              0.0\n",
       "status                           0.0\n",
       "gender_source_value_F            0.0\n",
       "                                ... \n",
       "condition_concept_id_46271022    0.0\n",
       "condition_concept_id_46271075    0.0\n",
       "condition_concept_id_46273463    0.0\n",
       "condition_concept_id_46273487    0.0\n",
       "condition_concept_id_46273652    0.0\n",
       "Length: 6305, dtype: float64"
      ]
     },
     "execution_count": 6,
     "metadata": {},
     "output_type": "execute_result"
    }
   ],
   "source": [
    "data.isnull().mean()"
   ]
  },
  {
   "cell_type": "code",
   "execution_count": 7,
   "metadata": {},
   "outputs": [
    {
     "data": {
      "text/plain": [
       "False    6305\n",
       "dtype: int64"
      ]
     },
     "execution_count": 7,
     "metadata": {},
     "output_type": "execute_result"
    }
   ],
   "source": [
    "np.isnan(data).any().value_counts()"
   ]
  },
  {
   "cell_type": "code",
   "execution_count": 8,
   "metadata": {},
   "outputs": [
    {
     "data": {
      "text/plain": [
       "(9134, 5056)"
      ]
     },
     "execution_count": 8,
     "metadata": {},
     "output_type": "execute_result"
    }
   ],
   "source": [
    "#remove near zero variance features from total data\n",
    "from sklearn.feature_selection import VarianceThreshold\n",
    "threshold_n=0.95\n",
    "sel = VarianceThreshold(threshold=(threshold_n* (1 - threshold_n) ))\n",
    "#sel = VarianceThreshold()\n",
    "\n",
    "sel_var=sel.fit_transform(data)\n",
    "data_without_zeroVfeature = data[data.columns[sel.get_support(indices=True)]]\n",
    "data_without_zeroVfeature.shape"
   ]
  },
  {
   "cell_type": "code",
   "execution_count": 9,
   "metadata": {},
   "outputs": [],
   "source": [
    "from sklearn.model_selection import StratifiedShuffleSplit\n",
    "split = StratifiedShuffleSplit(n_splits = 10, test_size = 0.3, random_state = 42)\n",
    "\n",
    "for training_indices, testing_indices in split.split(data_without_zeroVfeature, data_without_zeroVfeature[\"status\"]):\n",
    "        stratified_training_data = data_without_zeroVfeature.loc[training_indices]\n",
    "        stratified_testing_data = data_without_zeroVfeature.loc[testing_indices]"
   ]
  },
  {
   "cell_type": "code",
   "execution_count": 10,
   "metadata": {},
   "outputs": [
    {
     "data": {
      "text/plain": [
       "((6393, 5056), (2741, 5056))"
      ]
     },
     "execution_count": 10,
     "metadata": {},
     "output_type": "execute_result"
    }
   ],
   "source": [
    "stratified_training_data.shape, stratified_testing_data.shape"
   ]
  },
  {
   "cell_type": "code",
   "execution_count": 11,
   "metadata": {},
   "outputs": [
    {
     "name": "stdout",
     "output_type": "stream",
     "text": [
      "0.0    0.898402\n",
      "1.0    0.101598\n",
      "Name: status, dtype: float64\n",
      "0.0    0.898326\n",
      "1.0    0.101674\n",
      "Name: status, dtype: float64\n",
      "0.0    0.898577\n",
      "1.0    0.101423\n",
      "Name: status, dtype: float64\n"
     ]
    }
   ],
   "source": [
    "print(data[\"status\"].value_counts()/len(data))\n",
    "\n",
    "print(stratified_training_data[\"status\"].value_counts()/len(stratified_training_data))\n",
    "print(stratified_testing_data[\"status\"].value_counts()/len(stratified_testing_data))"
   ]
  },
  {
   "cell_type": "code",
   "execution_count": 12,
   "metadata": {},
   "outputs": [],
   "source": [
    "count_class_0, count_class_1 = stratified_training_data.status.value_counts()\n",
    "\n",
    "df_class_0 = stratified_training_data[stratified_training_data['status'] == 0]\n",
    "df_class_1 = stratified_training_data[stratified_training_data['status'] == 1]"
   ]
  },
  {
   "cell_type": "code",
   "execution_count": 13,
   "metadata": {},
   "outputs": [
    {
     "name": "stdout",
     "output_type": "stream",
     "text": [
      "Random over-sampling:\n",
      "1.0    5743\n",
      "0.0    5743\n",
      "Name: status, dtype: int64\n"
     ]
    },
    {
     "data": {
      "image/png": "[encoded data removed]",
      "text/plain": [
       "<Figure size 432x288 with 1 Axes>"
      ]
     },
     "metadata": {
      "needs_background": "light"
     },
     "output_type": "display_data"
    }
   ],
   "source": [
    "df_class_1_over = df_class_1.sample(count_class_0, replace=True)\n",
    "df_test_over = pd.concat([df_class_0, df_class_1_over], axis=0)\n",
    "\n",
    "print('Random over-sampling:')\n",
    "print(df_test_over.status.value_counts())\n",
    "\n",
    "df_test_over.status.value_counts().plot(kind='bar', title='Count (target)');"
   ]
  },
  {
   "cell_type": "code",
   "execution_count": 14,
   "metadata": {},
   "outputs": [],
   "source": [
    "#stratified_training_data_0_under = stratified_training_data_0.sample(count_class_1)\n",
    "#df_test_under = pd.concat([stratified_training_data_0_under, stratified_training_data_1], axis=0)\n",
    "\n",
    "#print('Random under-sampling:')\n",
    "#print(df_test_under.status.value_counts())\n",
    "\n",
    "#df_test_under.status.value_counts().plot(kind='bar', title='Count (target)');"
   ]
  },
  {
   "cell_type": "code",
   "execution_count": 15,
   "metadata": {},
   "outputs": [
    {
     "data": {
      "text/plain": [
       "(9134, 5056)"
      ]
     },
     "execution_count": 15,
     "metadata": {},
     "output_type": "execute_result"
    }
   ],
   "source": [
    "from sklearn.feature_selection import VarianceThreshold\n",
    "threshold_n=0.95\n",
    "sel = VarianceThreshold(threshold=(threshold_n* (1 - threshold_n) ))\n",
    "#sel = VarianceThreshold()\n",
    "\n",
    "sel_var=sel.fit_transform(data)\n",
    "data[data.columns[sel.get_support(indices=True)]].shape"
   ]
  },
  {
   "cell_type": "code",
   "execution_count": 16,
   "metadata": {},
   "outputs": [],
   "source": [
    "#stratified_training_data"
   ]
  },
  {
   "cell_type": "code",
   "execution_count": 17,
   "metadata": {},
   "outputs": [
    {
     "data": {
      "text/plain": [
       "(11486, 5055)"
      ]
     },
     "execution_count": 17,
     "metadata": {},
     "output_type": "execute_result"
    }
   ],
   "source": [
    "cols = list(df_test_over.columns.values) #Make a list of all of the columns in the df\n",
    "cols.pop(cols.index('status')) #Remove b from list\n",
    "X_train = df_test_over[cols]\n",
    "X_train.shape"
   ]
  },
  {
   "cell_type": "code",
   "execution_count": 18,
   "metadata": {},
   "outputs": [
    {
     "data": {
      "text/plain": [
       "(11486,)"
      ]
     },
     "execution_count": 18,
     "metadata": {},
     "output_type": "execute_result"
    }
   ],
   "source": [
    "y_train = df_test_over[\"status\"]\n",
    "y_train.shape"
   ]
  },
  {
   "cell_type": "code",
   "execution_count": 19,
   "metadata": {},
   "outputs": [
    {
     "data": {
      "text/plain": [
       "(2741, 5055)"
      ]
     },
     "execution_count": 19,
     "metadata": {},
     "output_type": "execute_result"
    }
   ],
   "source": [
    "cols = list(stratified_testing_data.columns.values) #Make a list of all of the columns in the df\n",
    "cols.pop(cols.index('status')) #Remove b from list\n",
    "X_test = stratified_testing_data[cols]\n",
    "X_test.shape"
   ]
  },
  {
   "cell_type": "code",
   "execution_count": 20,
   "metadata": {},
   "outputs": [
    {
     "data": {
      "text/plain": [
       "(2741,)"
      ]
     },
     "execution_count": 20,
     "metadata": {},
     "output_type": "execute_result"
    }
   ],
   "source": [
    "y_test = stratified_testing_data[\"status\"]\n",
    "y_test.shape"
   ]
  },
  {
   "cell_type": "code",
   "execution_count": 21,
   "metadata": {},
   "outputs": [],
   "source": [
    "min_max_scaler = preprocessing.MinMaxScaler()\n",
    "min_max_scaler.fit(X_train)\n",
    "X_train_minmax = min_max_scaler.transform(X_train)\n",
    "X_test_minmax = min_max_scaler.transform(X_test)"
   ]
  },
  {
   "cell_type": "code",
   "execution_count": null,
   "metadata": {},
   "outputs": [],
   "source": []
  },
  {
   "cell_type": "code",
   "execution_count": 22,
   "metadata": {},
   "outputs": [],
   "source": [
    "from sklearn.decomposition import PCA\n",
    "\n",
    "pca = PCA(n_components=2)\n",
    "X_train = pca.fit_transform(X_train_minmax)\n",
    "X_test = pca.transform(X_test_minmax)"
   ]
  },
  {
   "cell_type": "code",
   "execution_count": 23,
   "metadata": {},
   "outputs": [],
   "source": [
    "explained_variance = pca.explained_variance_ratio_"
   ]
  },
  {
   "cell_type": "code",
   "execution_count": 24,
   "metadata": {},
   "outputs": [
    {
     "data": {
      "text/plain": [
       "array([0.01053814, 0.00271917])"
      ]
     },
     "execution_count": 24,
     "metadata": {},
     "output_type": "execute_result"
    }
   ],
   "source": [
    "explained_variance"
   ]
  },
  {
   "cell_type": "code",
   "execution_count": 25,
   "metadata": {},
   "outputs": [],
   "source": [
    "#jbkjkbkb"
   ]
  },
  {
   "cell_type": "code",
   "execution_count": 26,
   "metadata": {},
   "outputs": [
    {
     "name": "stdout",
     "output_type": "stream",
     "text": [
      "NN: 0.634771 (0.013231)\n",
      "RF: 0.969181 (0.005677)\n",
      "CART: 0.950898 (0.004857)\n",
      "GB: 0.694672 (0.012461)\n",
      "KNN: 0.866185 (0.013666)\n",
      "SVM: 0.629287 (0.013798)\n",
      "NB: 0.631986 (0.014740)\n",
      "LR: 0.472227 (0.034239)\n",
      "LDA: 0.472314 (0.034177)\n"
     ]
    }
   ],
   "source": [
    "# prepare configuration for cross validation test harness\n",
    "seed = 7\n",
    "# prepare models\n",
    "models = []\n",
    "#models.append(('pca', PCA()))\n",
    "models.append(('NN', MLPClassifier()))\n",
    "models.append(('RF', RandomForestClassifier()))\n",
    "models.append(('CART', DecisionTreeClassifier()))\n",
    "models.append(('GB', GradientBoostingClassifier()))\n",
    "models.append(('KNN', KNeighborsClassifier()))\n",
    "models.append(('SVM', SVC()))\n",
    "models.append(('NB', GaussianNB()))\n",
    "models.append(('LR', LogisticRegression()))\n",
    "models.append(('LDA', LinearDiscriminantAnalysis()))\n",
    "\n",
    "\n",
    "# evaluate each model in turn\n",
    "results = []\n",
    "names = []\n",
    "scoring = 'accuracy'\n",
    "for name, model in models:\n",
    "    kfold = model_selection.KFold(n_splits=10, random_state=seed,shuffle=True)\n",
    "    cv_results = model_selection.cross_val_score(model, X_train, y_train, cv=kfold, scoring=scoring)\n",
    "    results.append(cv_results)\n",
    "    names.append(name)\n",
    "    msg = \"%s: %f (%f)\" % (name, cv_results.mean(), cv_results.std())\n",
    "    print(msg)\n",
    "    "
   ]
  },
  {
   "cell_type": "markdown",
   "metadata": {},
   "source": [
    "# Following results without PCA and oversampling performance on training set in 10cv setup"
   ]
  },
  {
   "cell_type": "markdown",
   "metadata": {},
   "source": [
    "SVM: 0.898452 (0.010047)\n",
    "NB: 0.326127 (0.010025)\n",
    "LR: 0.841384 (0.011822)\n",
    "CART: 0.809769 (0.015354)\n",
    "GB: 0.897905 (0.010295)\n",
    "KNN: 0.876416 (0.013828)\n",
    "RF: 0.898452 (0.010047)\n",
    "LDA: 0.589707 (0.011376)"
   ]
  },
  {
   "cell_type": "code",
   "execution_count": 27,
   "metadata": {},
   "outputs": [
    {
     "data": {
      "image/png": "[encoded data removed]",
      "text/plain": [
       "<Figure size 432x288 with 1 Axes>"
      ]
     },
     "metadata": {
      "needs_background": "light"
     },
     "output_type": "display_data"
    }
   ],
   "source": [
    "# boxplot algorithm comparison\n",
    "fig = plt.figure()\n",
    "fig.suptitle('Algorithm Comparison')\n",
    "ax = fig.add_subplot(111)\n",
    "plt.boxplot(results)\n",
    "ax.set_xticklabels(names)\n",
    "plt.show()"
   ]
  },
  {
   "cell_type": "markdown",
   "metadata": {},
   "source": [
    "# Test Data Model Performances"
   ]
  },
  {
   "cell_type": "code",
   "execution_count": 28,
   "metadata": {},
   "outputs": [
    {
     "name": "stdout",
     "output_type": "stream",
     "text": [
      "0.7303903684786575\n",
      "Confusion Matrix:\n",
      "[[1945  518]\n",
      " [ 221   57]]\n",
      "\n",
      "NN: Classification Report\n",
      "              precision    recall  f1-score   support\n",
      "\n",
      "         0.0       0.90      0.79      0.84      2463\n",
      "         1.0       0.10      0.21      0.13       278\n",
      "\n",
      "    accuracy                           0.73      2741\n",
      "   macro avg       0.50      0.50      0.49      2741\n",
      "weighted avg       0.82      0.73      0.77      2741\n",
      "\n"
     ]
    }
   ],
   "source": [
    "mlp = MLPClassifier()\n",
    "mlp.fit(X_train, y_train)\n",
    "predictions = mlp.predict(X_test)\n",
    "print(accuracy_score(y_test, predictions))\n",
    "\n",
    "print(\"Confusion Matrix:\")\n",
    "print(confusion_matrix(y_test, predictions))\n",
    "print()\n",
    "print(\"NN: Classification Report\")\n",
    "print(classification_report(y_test, predictions))"
   ]
  },
  {
   "cell_type": "code",
   "execution_count": 29,
   "metadata": {},
   "outputs": [
    {
     "name": "stdout",
     "output_type": "stream",
     "text": [
      "[[2393   70]\n",
      " [ 268   10]]\n",
      "0.8766873403867201\n",
      "RF: Classification Report\n",
      "              precision    recall  f1-score   support\n",
      "\n",
      "         0.0       0.90      0.97      0.93      2463\n",
      "         1.0       0.12      0.04      0.06       278\n",
      "\n",
      "    accuracy                           0.88      2741\n",
      "   macro avg       0.51      0.50      0.49      2741\n",
      "weighted avg       0.82      0.88      0.84      2741\n",
      "\n"
     ]
    }
   ],
   "source": [
    "from sklearn.ensemble import RandomForestClassifier\n",
    "\n",
    "classifier = RandomForestClassifier(max_depth=2, random_state=0)\n",
    "classifier.fit(X_train, y_train)\n",
    "\n",
    "# Predicting the Test set results\n",
    "y_pred = classifier.predict(X_test)\n",
    "\n",
    "from sklearn.metrics import confusion_matrix\n",
    "from sklearn.metrics import accuracy_score\n",
    "\n",
    "cm = confusion_matrix(y_test, y_pred)\n",
    "print(cm)\n",
    "print(accuracy_score(y_test, y_pred))\n",
    "\n",
    "print(\"RF: Classification Report\")\n",
    "print(classification_report(y_test, y_pred))"
   ]
  },
  {
   "cell_type": "code",
   "execution_count": 30,
   "metadata": {},
   "outputs": [
    {
     "name": "stdout",
     "output_type": "stream",
     "text": [
      "0.8310835461510397\n",
      "Confusion Matrix:\n",
      "[[2254  209]\n",
      " [ 254   24]]\n",
      "\n",
      "CART: Classification Report\n",
      "              precision    recall  f1-score   support\n",
      "\n",
      "         0.0       0.90      0.92      0.91      2463\n",
      "         1.0       0.10      0.09      0.09       278\n",
      "\n",
      "    accuracy                           0.83      2741\n",
      "   macro avg       0.50      0.50      0.50      2741\n",
      "weighted avg       0.82      0.83      0.82      2741\n",
      "\n"
     ]
    }
   ],
   "source": [
    "CART = DecisionTreeClassifier()\n",
    "CART.fit(X_train, y_train)\n",
    "predictions = CART.predict(X_test)\n",
    "print(accuracy_score(y_test, predictions))\n",
    "\n",
    "print(\"Confusion Matrix:\")\n",
    "print(confusion_matrix(y_test, predictions))\n",
    "print()\n",
    "print(\"CART: Classification Report\")\n",
    "print(classification_report(y_test, predictions))"
   ]
  },
  {
   "cell_type": "code",
   "execution_count": 31,
   "metadata": {},
   "outputs": [
    {
     "name": "stdout",
     "output_type": "stream",
     "text": [
      "0.7493615468807004\n",
      "Confusion Matrix:\n",
      "[[2000  463]\n",
      " [ 224   54]]\n",
      "\n",
      "GB: Classification Report\n",
      "              precision    recall  f1-score   support\n",
      "\n",
      "         0.0       0.90      0.81      0.85      2463\n",
      "         1.0       0.10      0.19      0.14       278\n",
      "\n",
      "    accuracy                           0.75      2741\n",
      "   macro avg       0.50      0.50      0.49      2741\n",
      "weighted avg       0.82      0.75      0.78      2741\n",
      "\n"
     ]
    }
   ],
   "source": [
    "gb = GradientBoostingClassifier()\n",
    "gb.fit(X_train, y_train)\n",
    "predictions = gb.predict(X_test)\n",
    "print(accuracy_score(y_test, predictions))\n",
    "\n",
    "print(\"Confusion Matrix:\")\n",
    "print(confusion_matrix(y_test, predictions))\n",
    "print()\n",
    "print(\"GB: Classification Report\")\n",
    "print(classification_report(y_test, predictions))"
   ]
  },
  {
   "cell_type": "code",
   "execution_count": 32,
   "metadata": {},
   "outputs": [],
   "source": [
    "#gb_accuracy = gb.score(X_test, y_test)*100     \n",
    "#print('The accuracy of the predicting Work class Missing Values with GradientBoosting Model is ' + str(gb_accuracy)+'%')"
   ]
  },
  {
   "cell_type": "code",
   "execution_count": 33,
   "metadata": {},
   "outputs": [
    {
     "name": "stdout",
     "output_type": "stream",
     "text": [
      "0.716891645384896\n",
      "Confusion Matrix:\n",
      "[[1885  578]\n",
      " [ 198   80]]\n",
      "\n",
      "KNN: Classification Report\n",
      "              precision    recall  f1-score   support\n",
      "\n",
      "         0.0       0.90      0.77      0.83      2463\n",
      "         1.0       0.12      0.29      0.17       278\n",
      "\n",
      "    accuracy                           0.72      2741\n",
      "   macro avg       0.51      0.53      0.50      2741\n",
      "weighted avg       0.83      0.72      0.76      2741\n",
      "\n"
     ]
    }
   ],
   "source": [
    "KNN = KNeighborsClassifier()\n",
    "KNN.fit(X_train, y_train)\n",
    "predictions = KNN.predict(X_test)\n",
    "print(accuracy_score(y_test, predictions))\n",
    "\n",
    "print(\"Confusion Matrix:\")\n",
    "print(confusion_matrix(y_test, predictions))\n",
    "print()\n",
    "print(\"KNN: Classification Report\")\n",
    "print(classification_report(y_test, predictions))"
   ]
  },
  {
   "cell_type": "code",
   "execution_count": 34,
   "metadata": {},
   "outputs": [
    {
     "name": "stdout",
     "output_type": "stream",
     "text": [
      "0.7646844217438891\n",
      "Confusion Matrix:\n",
      "[[2050  413]\n",
      " [ 232   46]]\n",
      "\n",
      "SVM: Classification Report\n",
      "              precision    recall  f1-score   support\n",
      "\n",
      "         0.0       0.90      0.83      0.86      2463\n",
      "         1.0       0.10      0.17      0.12       278\n",
      "\n",
      "    accuracy                           0.76      2741\n",
      "   macro avg       0.50      0.50      0.49      2741\n",
      "weighted avg       0.82      0.76      0.79      2741\n",
      "\n"
     ]
    }
   ],
   "source": [
    "SVM = SVC(decision_function_shape=\"ovo\").fit(X_train, y_train)\n",
    "predictions = SVM.predict(X_test)\n",
    "print(accuracy_score(y_test, predictions))\n",
    "print(\"Confusion Matrix:\")\n",
    "print(confusion_matrix(y_test, predictions))\n",
    "print()\n",
    "print(\"SVM: Classification Report\")\n",
    "print(classification_report(y_test, predictions))"
   ]
  },
  {
   "cell_type": "code",
   "execution_count": 35,
   "metadata": {},
   "outputs": [
    {
     "name": "stdout",
     "output_type": "stream",
     "text": [
      "0.7406056183874499\n",
      "Confusion Matrix:\n",
      "[[1985  478]\n",
      " [ 233   45]]\n",
      "\n",
      "NB: Classification Report\n",
      "              precision    recall  f1-score   support\n",
      "\n",
      "         0.0       0.89      0.81      0.85      2463\n",
      "         1.0       0.09      0.16      0.11       278\n",
      "\n",
      "    accuracy                           0.74      2741\n",
      "   macro avg       0.49      0.48      0.48      2741\n",
      "weighted avg       0.81      0.74      0.77      2741\n",
      "\n"
     ]
    }
   ],
   "source": [
    "NB = GaussianNB()\n",
    "NB.fit(X_train, y_train)\n",
    "predictions = NB.predict(X_test)\n",
    "print(accuracy_score(y_test, predictions))\n",
    "\n",
    "print(\"Confusion Matrix:\")\n",
    "print(confusion_matrix(y_test, predictions))\n",
    "print()\n",
    "print(\"NB: Classification Report\")\n",
    "print(classification_report(y_test, predictions))"
   ]
  },
  {
   "cell_type": "code",
   "execution_count": 36,
   "metadata": {},
   "outputs": [
    {
     "name": "stdout",
     "output_type": "stream",
     "text": [
      "0.41554177307551987\n",
      "Confusion Matrix:\n",
      "[[ 989 1474]\n",
      " [ 128  150]]\n",
      "\n",
      "LG: Classification Report\n",
      "              precision    recall  f1-score   support\n",
      "\n",
      "         0.0       0.89      0.40      0.55      2463\n",
      "         1.0       0.09      0.54      0.16       278\n",
      "\n",
      "    accuracy                           0.42      2741\n",
      "   macro avg       0.49      0.47      0.36      2741\n",
      "weighted avg       0.80      0.42      0.51      2741\n",
      "\n"
     ]
    }
   ],
   "source": [
    "LG = LogisticRegression()\n",
    "LG.fit(X_train, y_train)\n",
    "predictions = LG.predict(X_test)\n",
    "print(accuracy_score(y_test, predictions))\n",
    "\n",
    "print(\"Confusion Matrix:\")\n",
    "print(confusion_matrix(y_test, predictions))\n",
    "print()\n",
    "print(\"LG: Classification Report\")\n",
    "print(classification_report(y_test, predictions))"
   ]
  },
  {
   "cell_type": "code",
   "execution_count": 37,
   "metadata": {},
   "outputs": [
    {
     "name": "stdout",
     "output_type": "stream",
     "text": [
      "0.41554177307551987\n",
      "Confusion Matrix:\n",
      "[[ 989 1474]\n",
      " [ 128  150]]\n",
      "\n",
      "LDA: Classification Report\n",
      "              precision    recall  f1-score   support\n",
      "\n",
      "         0.0       0.89      0.40      0.55      2463\n",
      "         1.0       0.09      0.54      0.16       278\n",
      "\n",
      "    accuracy                           0.42      2741\n",
      "   macro avg       0.49      0.47      0.36      2741\n",
      "weighted avg       0.80      0.42      0.51      2741\n",
      "\n"
     ]
    }
   ],
   "source": [
    "LDA = LinearDiscriminantAnalysis()\n",
    "LDA.fit(X_train, y_train)\n",
    "predictions = LDA.predict(X_test)\n",
    "print(accuracy_score(y_test, predictions))\n",
    "\n",
    "print(\"Confusion Matrix:\")\n",
    "print(confusion_matrix(y_test, predictions))\n",
    "print()\n",
    "print(\"LDA: Classification Report\")\n",
    "print(classification_report(y_test, predictions))\n"
   ]
  },
  {
   "cell_type": "code",
   "execution_count": null,
   "metadata": {},
   "outputs": [],
   "source": []
  }
 ],
 "metadata": {
  "kernelspec": {
   "display_name": "Python 3",
   "language": "python",
   "name": "python3"
  },
  "language_info": {
   "codemirror_mode": {
    "name": "ipython",
    "version": 3
   },
   "file_extension": ".py",
   "mimetype": "text/x-python",
   "name": "python",
   "nbconvert_exporter": "python",
   "pygments_lexer": "ipython3",
   "version": "3.7.7"
  }
 },
 "nbformat": 4,
 "nbformat_minor": 4
}

{
 "cells": [
  {
   "cell_type": "code",
   "execution_count": 1,
   "metadata": {},
   "outputs": [],
   "source": [
    "import pandas as pd\n",
    "pd.set_option('display.max_columns', 500)\n",
    "from sklearn import preprocessing\n",
    "\n",
    "from sklearn import model_selection\n",
    "from sklearn.linear_model import LogisticRegression\n",
    "from sklearn.tree import DecisionTreeClassifier\n",
    "from sklearn.neighbors import KNeighborsClassifier\n",
    "from sklearn.discriminant_analysis import LinearDiscriminantAnalysis\n",
    "from sklearn.naive_bayes import GaussianNB\n",
    "from sklearn.svm import SVC\n",
    "from sklearn.ensemble import GradientBoostingClassifier\n",
    "from sklearn.metrics import classification_report, confusion_matrix, roc_curve, auc\n",
    "from sklearn.ensemble import RandomForestClassifier\n",
    "from sklearn.neural_network import MLPClassifier\n",
    "from sklearn.utils import class_weight\n",
    "from sklearn.model_selection import cross_val_score\n",
    "from sklearn.model_selection import KFold\n",
    "from sklearn.preprocessing import LabelEncoder\n",
    "from sklearn.metrics import accuracy_score\n",
    "from sklearn.model_selection import train_test_split, RandomizedSearchCV\n",
    "\n",
    "\n",
    "from scipy import interp\n",
    "from scipy.stats import randint as sp_randint\n",
    "from scipy.stats import uniform as sp_randuni\n",
    "#from keras.wrappers.scikit_learn import KerasClassifier\n",
    "\n",
    "\n",
    "import numpy as np\n",
    "import seaborn as sns\n",
    "import matplotlib.pyplot as plt\n",
    "#%matplotlib inline"
   ]
  },
  {
   "cell_type": "code",
   "execution_count": 2,
   "metadata": {},
   "outputs": [
    {
     "name": "stdout",
     "output_type": "stream",
     "text": [
      " dataset has 9134 samples with 6305 features each.\n"
     ]
    }
   ],
   "source": [
    "# load the car data dataset\n",
    "try:\n",
    "    data = pd.read_csv(\"mydata.csv\", delimiter=\",\")\n",
    "    print(\" dataset has {} samples with {} features each.\".format(*data.shape))\n",
    "except:\n",
    "    print(\"Dataset could not be loaded. Is the dataset missing?\")"
   ]
  },
  {
   "cell_type": "code",
   "execution_count": 3,
   "metadata": {},
   "outputs": [
    {
     "data": {
      "text/plain": [
       "True     4032\n",
       "False    2273\n",
       "dtype: int64"
      ]
     },
     "execution_count": 3,
     "metadata": {},
     "output_type": "execute_result"
    }
   ],
   "source": [
    "np.isnan(data).any().value_counts()"
   ]
  },
  {
   "cell_type": "code",
   "execution_count": 4,
   "metadata": {},
   "outputs": [],
   "source": [
    "#data = data.fillna(0)\n",
    "data.replace(np.nan, 0, inplace=True)\n"
   ]
  },
  {
   "cell_type": "code",
   "execution_count": 5,
   "metadata": {},
   "outputs": [],
   "source": [
    "#from sklearn.impute import SimpleImputer\n",
    "#imp = SimpleImputer(missing_values='NaN', strategy='median')#, axis=1)\n",
    "#imp.fit(data)\n",
    "#data = imp.fit_transform(data)"
   ]
  },
  {
   "cell_type": "code",
   "execution_count": 6,
   "metadata": {},
   "outputs": [
    {
     "data": {
      "text/plain": [
       "Unnamed: 0                       0.0\n",
       "person_id                        0.0\n",
       "age                              0.0\n",
       "status                           0.0\n",
       "gender_source_value_F            0.0\n",
       "                                ... \n",
       "condition_concept_id_46271022    0.0\n",
       "condition_concept_id_46271075    0.0\n",
       "condition_concept_id_46273463    0.0\n",
       "condition_concept_id_46273487    0.0\n",
       "condition_concept_id_46273652    0.0\n",
       "Length: 6305, dtype: float64"
      ]
     },
     "execution_count": 6,
     "metadata": {},
     "output_type": "execute_result"
    }
   ],
   "source": [
    "data.isnull().mean()"
   ]
  },
  {
   "cell_type": "code",
   "execution_count": 7,
   "metadata": {},
   "outputs": [
    {
     "data": {
      "text/plain": [
       "False    6305\n",
       "dtype: int64"
      ]
     },
     "execution_count": 7,
     "metadata": {},
     "output_type": "execute_result"
    }
   ],
   "source": [
    "np.isnan(data).any().value_counts()"
   ]
  },
  {
   "cell_type": "code",
   "execution_count": 8,
   "metadata": {},
   "outputs": [
    {
     "data": {
      "text/plain": [
       "(9134, 5056)"
      ]
     },
     "execution_count": 8,
     "metadata": {},
     "output_type": "execute_result"
    }
   ],
   "source": [
    "#remove near zero variance features from total data\n",
    "from sklearn.feature_selection import VarianceThreshold\n",
    "threshold_n=0.95\n",
    "sel = VarianceThreshold(threshold=(threshold_n* (1 - threshold_n) ))\n",
    "#sel = VarianceThreshold()\n",
    "\n",
    "sel_var=sel.fit_transform(data)\n",
    "data_without_zeroVfeature = data[data.columns[sel.get_support(indices=True)]]\n",
    "data_without_zeroVfeature.shape"
   ]
  },
  {
   "cell_type": "code",
   "execution_count": 9,
   "metadata": {},
   "outputs": [],
   "source": [
    "from sklearn.model_selection import StratifiedShuffleSplit\n",
    "split = StratifiedShuffleSplit(n_splits = 10, test_size = 0.3, random_state = 42)\n",
    "\n",
    "for training_indices, testing_indices in split.split(data_without_zeroVfeature, data_without_zeroVfeature[\"status\"]):\n",
    "        stratified_training_data = data_without_zeroVfeature.loc[training_indices]\n",
    "        stratified_testing_data = data_without_zeroVfeature.loc[testing_indices]"
   ]
  },
  {
   "cell_type": "code",
   "execution_count": 10,
   "metadata": {},
   "outputs": [
    {
     "data": {
      "text/plain": [
       "((6393, 5056), (2741, 5056))"
      ]
     },
     "execution_count": 10,
     "metadata": {},
     "output_type": "execute_result"
    }
   ],
   "source": [
    "stratified_training_data.shape, stratified_testing_data.shape"
   ]
  },
  {
   "cell_type": "code",
   "execution_count": 11,
   "metadata": {},
   "outputs": [
    {
     "name": "stdout",
     "output_type": "stream",
     "text": [
      "0.0    0.898402\n",
      "1.0    0.101598\n",
      "Name: status, dtype: float64\n",
      "0.0    0.898326\n",
      "1.0    0.101674\n",
      "Name: status, dtype: float64\n",
      "0.0    0.898577\n",
      "1.0    0.101423\n",
      "Name: status, dtype: float64\n"
     ]
    }
   ],
   "source": [
    "print(data[\"status\"].value_counts()/len(data))\n",
    "\n",
    "print(stratified_training_data[\"status\"].value_counts()/len(stratified_training_data))\n",
    "print(stratified_testing_data[\"status\"].value_counts()/len(stratified_testing_data))"
   ]
  },
  {
   "cell_type": "code",
   "execution_count": 12,
   "metadata": {},
   "outputs": [],
   "source": [
    "count_class_0, count_class_1 = stratified_training_data.status.value_counts()\n",
    "\n",
    "df_class_0 = stratified_training_data[stratified_training_data['status'] == 0]\n",
    "df_class_1 = stratified_training_data[stratified_training_data['status'] == 1]"
   ]
  },
  {
   "cell_type": "code",
   "execution_count": 13,
   "metadata": {},
   "outputs": [
    {
     "name": "stdout",
     "output_type": "stream",
     "text": [
      "Random over-sampling:\n",
      "1.0    5743\n",
      "0.0    5743\n",
      "Name: status, dtype: int64\n"
     ]
    },
    {
     "data": {
      "image/png": "[encoded data removed]",
      "text/plain": [
       "<Figure size 432x288 with 1 Axes>"
      ]
     },
     "metadata": {
      "needs_background": "light"
     },
     "output_type": "display_data"
    }
   ],
   "source": [
    "df_class_1_over = df_class_1.sample(count_class_0, replace=True)\n",
    "df_test_over = pd.concat([df_class_0, df_class_1_over], axis=0)\n",
    "\n",
    "print('Random over-sampling:')\n",
    "print(df_test_over.status.value_counts())\n",
    "\n",
    "df_test_over.status.value_counts().plot(kind='bar', title='Count (target)');"
   ]
  },
  {
   "cell_type": "code",
   "execution_count": 14,
   "metadata": {},
   "outputs": [],
   "source": [
    "#stratified_training_data_0_under = stratified_training_data_0.sample(count_class_1)\n",
    "#df_test_under = pd.concat([stratified_training_data_0_under, stratified_training_data_1], axis=0)\n",
    "\n",
    "#print('Random under-sampling:')\n",
    "#print(df_test_under.status.value_counts())\n",
    "\n",
    "#df_test_under.status.value_counts().plot(kind='bar', title='Count (target)');"
   ]
  },
  {
   "cell_type": "code",
   "execution_count": 15,
   "metadata": {},
   "outputs": [
    {
     "data": {
      "text/plain": [
       "(9134, 5056)"
      ]
     },
     "execution_count": 15,
     "metadata": {},
     "output_type": "execute_result"
    }
   ],
   "source": [
    "from sklearn.feature_selection import VarianceThreshold\n",
    "threshold_n=0.95\n",
    "sel = VarianceThreshold(threshold=(threshold_n* (1 - threshold_n) ))\n",
    "#sel = VarianceThreshold()\n",
    "\n",
    "sel_var=sel.fit_transform(data)\n",
    "data[data.columns[sel.get_support(indices=True)]].shape"
   ]
  },
  {
   "cell_type": "code",
   "execution_count": 16,
   "metadata": {},
   "outputs": [],
   "source": [
    "#stratified_training_data"
   ]
  },
  {
   "cell_type": "code",
   "execution_count": 17,
   "metadata": {},
   "outputs": [
    {
     "data": {
      "text/plain": [
       "(11486, 5055)"
      ]
     },
     "execution_count": 17,
     "metadata": {},
     "output_type": "execute_result"
    }
   ],
   "source": [
    "cols = list(df_test_over.columns.values) #Make a list of all of the columns in the df\n",
    "cols.pop(cols.index('status')) #Remove b from list\n",
    "X_train = df_test_over[cols]\n",
    "X_train.shape"
   ]
  },
  {
   "cell_type": "code",
   "execution_count": 18,
   "metadata": {},
   "outputs": [
    {
     "data": {
      "text/plain": [
       "(11486,)"
      ]
     },
     "execution_count": 18,
     "metadata": {},
     "output_type": "execute_result"
    }
   ],
   "source": [
    "y_train = df_test_over[\"status\"]\n",
    "y_train.shape"
   ]
  },
  {
   "cell_type": "code",
   "execution_count": 19,
   "metadata": {},
   "outputs": [
    {
     "data": {
      "text/plain": [
       "(2741, 5055)"
      ]
     },
     "execution_count": 19,
     "metadata": {},
     "output_type": "execute_result"
    }
   ],
   "source": [
    "cols = list(stratified_testing_data.columns.values) #Make a list of all of the columns in the df\n",
    "cols.pop(cols.index('status')) #Remove b from list\n",
    "X_test = stratified_testing_data[cols]\n",
    "X_test.shape"
   ]
  },
  {
   "cell_type": "code",
   "execution_count": 20,
   "metadata": {},
   "outputs": [
    {
     "data": {
      "text/plain": [
       "(2741,)"
      ]
     },
     "execution_count": 20,
     "metadata": {},
     "output_type": "execute_result"
    }
   ],
   "source": [
    "y_test = stratified_testing_data[\"status\"]\n",
    "y_test.shape"
   ]
  },
  {
   "cell_type": "code",
   "execution_count": 21,
   "metadata": {},
   "outputs": [],
   "source": [
    "min_max_scaler = preprocessing.MinMaxScaler()\n",
    "min_max_scaler.fit(X_train)\n",
    "X_train_minmax = min_max_scaler.transform(X_train)\n",
    "X_test_minmax = min_max_scaler.transform(X_test)"
   ]
  },
  {
   "cell_type": "code",
   "execution_count": null,
   "metadata": {},
   "outputs": [],
   "source": []
  },
  {
   "cell_type": "code",
   "execution_count": 22,
   "metadata": {},
   "outputs": [],
   "source": [
    "from sklearn.decomposition import PCA\n",
    "\n",
    "pca = PCA(n_components=100)\n",
    "X_train = pca.fit_transform(X_train_minmax)\n",
    "X_test = pca.transform(X_test_minmax)"
   ]
  },
  {
   "cell_type": "code",
   "execution_count": 23,
   "metadata": {},
   "outputs": [],
   "source": [
    "explained_variance = pca.explained_variance_ratio_"
   ]
  },
  {
   "cell_type": "code",
   "execution_count": 24,
   "metadata": {},
   "outputs": [
    {
     "data": {
      "text/plain": [
       "array([0.01045113, 0.00266352, 0.00254031, 0.0024604 , 0.00238028,\n",
       "       0.00235043, 0.00233469, 0.00230272, 0.0022833 , 0.0022736 ,\n",
       "       0.00225342, 0.00223314, 0.00223051, 0.00220788, 0.00219348,\n",
       "       0.00218684, 0.00215583, 0.00214965, 0.00212825, 0.00211988,\n",
       "       0.00211302, 0.00210271, 0.00207617, 0.00207561, 0.00205633,\n",
       "       0.00205268, 0.00204239, 0.00203927, 0.00201143, 0.00200706,\n",
       "       0.00199182, 0.00198839, 0.00197495, 0.00196213, 0.00195315,\n",
       "       0.00194484, 0.00193703, 0.00191962, 0.00191204, 0.00190742,\n",
       "       0.00189949, 0.00188361, 0.00188105, 0.001877  , 0.00185798,\n",
       "       0.00185307, 0.00184759, 0.00184425, 0.00183295, 0.00182759,\n",
       "       0.00182302, 0.0018123 , 0.00180245, 0.00179068, 0.00178366,\n",
       "       0.00177956, 0.00177402, 0.00176505, 0.00175588, 0.00175072,\n",
       "       0.0017455 , 0.00173489, 0.0017326 , 0.00172391, 0.00171866,\n",
       "       0.00171273, 0.00169929, 0.00169298, 0.00168462, 0.00168209,\n",
       "       0.00167013, 0.00166382, 0.00165308, 0.00164853, 0.00164098,\n",
       "       0.00163152, 0.00162616, 0.00162203, 0.00160579, 0.00160319,\n",
       "       0.00159724, 0.00159276, 0.00157968, 0.001571  , 0.00156802,\n",
       "       0.00156586, 0.00156027, 0.00155274, 0.0015458 , 0.00154261,\n",
       "       0.00153284, 0.00152588, 0.00151876, 0.00150593, 0.00149778,\n",
       "       0.00149706, 0.0014844 , 0.00147474, 0.00146602, 0.00145765])"
      ]
     },
     "execution_count": 24,
     "metadata": {},
     "output_type": "execute_result"
    }
   ],
   "source": [
    "explained_variance"
   ]
  },
  {
   "cell_type": "code",
   "execution_count": 25,
   "metadata": {},
   "outputs": [],
   "source": [
    "#jbkjkbkb"
   ]
  },
  {
   "cell_type": "code",
   "execution_count": 26,
   "metadata": {},
   "outputs": [
    {
     "name": "stdout",
     "output_type": "stream",
     "text": [
      "NN: 0.997214 (0.001940)\n",
      "RF: 1.000000 (0.000000)\n",
      "CART: 0.970746 (0.005528)\n",
      "GB: 0.978061 (0.003296)\n",
      "KNN: 0.986418 (0.002310)\n",
      "SVM: 0.988595 (0.003403)\n",
      "NB: 0.935661 (0.005869)\n",
      "LR: 0.570083 (0.009800)\n",
      "LDA: 0.570169 (0.009420)\n"
     ]
    }
   ],
   "source": [
    "# prepare configuration for cross validation test harness\n",
    "seed = 7\n",
    "# prepare models\n",
    "models = []\n",
    "#models.append(('pca', PCA()))\n",
    "models.append(('NN', MLPClassifier()))\n",
    "models.append(('RF', RandomForestClassifier()))\n",
    "models.append(('CART', DecisionTreeClassifier()))\n",
    "models.append(('GB', GradientBoostingClassifier()))\n",
    "models.append(('KNN', KNeighborsClassifier()))\n",
    "models.append(('SVM', SVC()))\n",
    "models.append(('NB', GaussianNB()))\n",
    "models.append(('LR', LogisticRegression()))\n",
    "models.append(('LDA', LinearDiscriminantAnalysis()))\n",
    "\n",
    "\n",
    "# evaluate each model in turn\n",
    "results = []\n",
    "names = []\n",
    "scoring = 'accuracy'\n",
    "for name, model in models:\n",
    "    kfold = model_selection.KFold(n_splits=10, random_state=seed,shuffle=True)\n",
    "    cv_results = model_selection.cross_val_score(model, X_train, y_train, cv=kfold, scoring=scoring)\n",
    "    results.append(cv_results)\n",
    "    names.append(name)\n",
    "    msg = \"%s: %f (%f)\" % (name, cv_results.mean(), cv_results.std())\n",
    "    print(msg)\n",
    "    "
   ]
  },
  {
   "cell_type": "markdown",
   "metadata": {},
   "source": [
    "# Following results without PCA and oversampling performance on training set in 10cv setup"
   ]
  },
  {
   "cell_type": "markdown",
   "metadata": {},
   "source": [
    "SVM: 0.898452 (0.010047)\n",
    "NB: 0.326127 (0.010025)\n",
    "LR: 0.841384 (0.011822)\n",
    "CART: 0.809769 (0.015354)\n",
    "GB: 0.897905 (0.010295)\n",
    "KNN: 0.876416 (0.013828)\n",
    "RF: 0.898452 (0.010047)\n",
    "LDA: 0.589707 (0.011376)"
   ]
  },
  {
   "cell_type": "code",
   "execution_count": 27,
   "metadata": {},
   "outputs": [
    {
     "data": {
      "image/png": "[encoded data removed]",
      "text/plain": [
       "<Figure size 432x288 with 1 Axes>"
      ]
     },
     "metadata": {
      "needs_background": "light"
     },
     "output_type": "display_data"
    }
   ],
   "source": [
    "# boxplot algorithm comparison\n",
    "fig = plt.figure()\n",
    "fig.suptitle('Algorithm Comparison')\n",
    "ax = fig.add_subplot(111)\n",
    "plt.boxplot(results)\n",
    "ax.set_xticklabels(names)\n",
    "plt.show()"
   ]
  },
  {
   "cell_type": "markdown",
   "metadata": {},
   "source": [
    "# Test Data Model Performances"
   ]
  },
  {
   "cell_type": "code",
   "execution_count": 28,
   "metadata": {},
   "outputs": [
    {
     "name": "stdout",
     "output_type": "stream",
     "text": [
      "0.8956585187887632\n",
      "Confusion Matrix:\n",
      "[[2451   12]\n",
      " [ 274    4]]\n",
      "\n",
      "NN: Classification Report\n",
      "              precision    recall  f1-score   support\n",
      "\n",
      "         0.0       0.90      1.00      0.94      2463\n",
      "         1.0       0.25      0.01      0.03       278\n",
      "\n",
      "    accuracy                           0.90      2741\n",
      "   macro avg       0.57      0.50      0.49      2741\n",
      "weighted avg       0.83      0.90      0.85      2741\n",
      "\n"
     ]
    }
   ],
   "source": [
    "mlp = MLPClassifier()\n",
    "mlp.fit(X_train, y_train)\n",
    "predictions = mlp.predict(X_test)\n",
    "print(accuracy_score(y_test, predictions))\n",
    "\n",
    "print(\"Confusion Matrix:\")\n",
    "print(confusion_matrix(y_test, predictions))\n",
    "print()\n",
    "print(\"NN: Classification Report\")\n",
    "print(classification_report(y_test, predictions))"
   ]
  },
  {
   "cell_type": "code",
   "execution_count": 29,
   "metadata": {},
   "outputs": [
    {
     "name": "stdout",
     "output_type": "stream",
     "text": [
      "[[2446   17]\n",
      " [ 276    2]]\n",
      "0.8931047063115651\n",
      "RF: Classification Report\n",
      "              precision    recall  f1-score   support\n",
      "\n",
      "         0.0       0.90      0.99      0.94      2463\n",
      "         1.0       0.11      0.01      0.01       278\n",
      "\n",
      "    accuracy                           0.89      2741\n",
      "   macro avg       0.50      0.50      0.48      2741\n",
      "weighted avg       0.82      0.89      0.85      2741\n",
      "\n"
     ]
    }
   ],
   "source": [
    "from sklearn.ensemble import RandomForestClassifier\n",
    "\n",
    "classifier = RandomForestClassifier(max_depth=2, random_state=0)\n",
    "classifier.fit(X_train, y_train)\n",
    "\n",
    "# Predicting the Test set results\n",
    "y_pred = classifier.predict(X_test)\n",
    "\n",
    "from sklearn.metrics import confusion_matrix\n",
    "from sklearn.metrics import accuracy_score\n",
    "\n",
    "cm = confusion_matrix(y_test, y_pred)\n",
    "print(cm)\n",
    "print(accuracy_score(y_test, y_pred))\n",
    "\n",
    "print(\"RF: Classification Report\")\n",
    "print(classification_report(y_test, y_pred))"
   ]
  },
  {
   "cell_type": "code",
   "execution_count": 30,
   "metadata": {},
   "outputs": [
    {
     "name": "stdout",
     "output_type": "stream",
     "text": [
      "0.8653775994162715\n",
      "Confusion Matrix:\n",
      "[[2362  101]\n",
      " [ 268   10]]\n",
      "\n",
      "CART: Classification Report\n",
      "              precision    recall  f1-score   support\n",
      "\n",
      "         0.0       0.90      0.96      0.93      2463\n",
      "         1.0       0.09      0.04      0.05       278\n",
      "\n",
      "    accuracy                           0.87      2741\n",
      "   macro avg       0.49      0.50      0.49      2741\n",
      "weighted avg       0.82      0.87      0.84      2741\n",
      "\n"
     ]
    }
   ],
   "source": [
    "CART = DecisionTreeClassifier()\n",
    "CART.fit(X_train, y_train)\n",
    "predictions = CART.predict(X_test)\n",
    "print(accuracy_score(y_test, predictions))\n",
    "\n",
    "print(\"Confusion Matrix:\")\n",
    "print(confusion_matrix(y_test, predictions))\n",
    "print()\n",
    "print(\"CART: Classification Report\")\n",
    "print(classification_report(y_test, predictions))"
   ]
  },
  {
   "cell_type": "code",
   "execution_count": 31,
   "metadata": {},
   "outputs": [
    {
     "name": "stdout",
     "output_type": "stream",
     "text": [
      "0.8982123312659613\n",
      "Confusion Matrix:\n",
      "[[2461    2]\n",
      " [ 277    1]]\n",
      "\n",
      "GB: Classification Report\n",
      "              precision    recall  f1-score   support\n",
      "\n",
      "         0.0       0.90      1.00      0.95      2463\n",
      "         1.0       0.33      0.00      0.01       278\n",
      "\n",
      "    accuracy                           0.90      2741\n",
      "   macro avg       0.62      0.50      0.48      2741\n",
      "weighted avg       0.84      0.90      0.85      2741\n",
      "\n"
     ]
    }
   ],
   "source": [
    "gb = GradientBoostingClassifier()\n",
    "gb.fit(X_train, y_train)\n",
    "predictions = gb.predict(X_test)\n",
    "print(accuracy_score(y_test, predictions))\n",
    "\n",
    "print(\"Confusion Matrix:\")\n",
    "print(confusion_matrix(y_test, predictions))\n",
    "print()\n",
    "print(\"GB: Classification Report\")\n",
    "print(classification_report(y_test, predictions))"
   ]
  },
  {
   "cell_type": "code",
   "execution_count": 32,
   "metadata": {},
   "outputs": [],
   "source": [
    "#gb_accuracy = gb.score(X_test, y_test)*100     \n",
    "#print('The accuracy of the predicting Work class Missing Values with GradientBoosting Model is ' + str(gb_accuracy)+'%')"
   ]
  },
  {
   "cell_type": "code",
   "execution_count": 33,
   "metadata": {},
   "outputs": [
    {
     "name": "stdout",
     "output_type": "stream",
     "text": [
      "0.8890915724188252\n",
      "Confusion Matrix:\n",
      "[[2433   30]\n",
      " [ 274    4]]\n",
      "\n",
      "KNN: Classification Report\n",
      "              precision    recall  f1-score   support\n",
      "\n",
      "         0.0       0.90      0.99      0.94      2463\n",
      "         1.0       0.12      0.01      0.03       278\n",
      "\n",
      "    accuracy                           0.89      2741\n",
      "   macro avg       0.51      0.50      0.48      2741\n",
      "weighted avg       0.82      0.89      0.85      2741\n",
      "\n"
     ]
    }
   ],
   "source": [
    "KNN = KNeighborsClassifier()\n",
    "KNN.fit(X_train, y_train)\n",
    "predictions = KNN.predict(X_test)\n",
    "print(accuracy_score(y_test, predictions))\n",
    "\n",
    "print(\"Confusion Matrix:\")\n",
    "print(confusion_matrix(y_test, predictions))\n",
    "print()\n",
    "print(\"KNN: Classification Report\")\n",
    "print(classification_report(y_test, predictions))"
   ]
  },
  {
   "cell_type": "code",
   "execution_count": 34,
   "metadata": {},
   "outputs": [
    {
     "name": "stdout",
     "output_type": "stream",
     "text": [
      "0.890550893834367\n",
      "Confusion Matrix:\n",
      "[[2437   26]\n",
      " [ 274    4]]\n",
      "\n",
      "SVM: Classification Report\n",
      "              precision    recall  f1-score   support\n",
      "\n",
      "         0.0       0.90      0.99      0.94      2463\n",
      "         1.0       0.13      0.01      0.03       278\n",
      "\n",
      "    accuracy                           0.89      2741\n",
      "   macro avg       0.52      0.50      0.48      2741\n",
      "weighted avg       0.82      0.89      0.85      2741\n",
      "\n"
     ]
    }
   ],
   "source": [
    "SVM = SVC(decision_function_shape=\"ovo\").fit(X_train, y_train)\n",
    "predictions = SVM.predict(X_test)\n",
    "print(accuracy_score(y_test, predictions))\n",
    "print(\"Confusion Matrix:\")\n",
    "print(confusion_matrix(y_test, predictions))\n",
    "print()\n",
    "print(\"SVM: Classification Report\")\n",
    "print(classification_report(y_test, predictions))"
   ]
  },
  {
   "cell_type": "code",
   "execution_count": 35,
   "metadata": {},
   "outputs": [
    {
     "name": "stdout",
     "output_type": "stream",
     "text": [
      "0.8985771616198468\n",
      "Confusion Matrix:\n",
      "[[2463    0]\n",
      " [ 278    0]]\n",
      "\n",
      "NB: Classification Report\n",
      "              precision    recall  f1-score   support\n",
      "\n",
      "         0.0       0.90      1.00      0.95      2463\n",
      "         1.0       0.00      0.00      0.00       278\n",
      "\n",
      "    accuracy                           0.90      2741\n",
      "   macro avg       0.45      0.50      0.47      2741\n",
      "weighted avg       0.81      0.90      0.85      2741\n",
      "\n"
     ]
    },
    {
     "name": "stderr",
     "output_type": "stream",
     "text": [
      "/Users/friends/anaconda3/envs/udacity-ehr-env/lib/python3.7/site-packages/sklearn/metrics/_classification.py:1272: UndefinedMetricWarning: Precision and F-score are ill-defined and being set to 0.0 in labels with no predicted samples. Use `zero_division` parameter to control this behavior.\n",
      "  _warn_prf(average, modifier, msg_start, len(result))\n"
     ]
    }
   ],
   "source": [
    "NB = GaussianNB()\n",
    "NB.fit(X_train, y_train)\n",
    "predictions = NB.predict(X_test)\n",
    "print(accuracy_score(y_test, predictions))\n",
    "\n",
    "print(\"Confusion Matrix:\")\n",
    "print(confusion_matrix(y_test, predictions))\n",
    "print()\n",
    "print(\"NB: Classification Report\")\n",
    "print(classification_report(y_test, predictions))"
   ]
  },
  {
   "cell_type": "code",
   "execution_count": 36,
   "metadata": {},
   "outputs": [
    {
     "name": "stdout",
     "output_type": "stream",
     "text": [
      "0.5902955125866473\n",
      "Confusion Matrix:\n",
      "[[1505  958]\n",
      " [ 165  113]]\n",
      "\n",
      "LG: Classification Report\n",
      "              precision    recall  f1-score   support\n",
      "\n",
      "         0.0       0.90      0.61      0.73      2463\n",
      "         1.0       0.11      0.41      0.17       278\n",
      "\n",
      "    accuracy                           0.59      2741\n",
      "   macro avg       0.50      0.51      0.45      2741\n",
      "weighted avg       0.82      0.59      0.67      2741\n",
      "\n"
     ]
    }
   ],
   "source": [
    "LG = LogisticRegression()\n",
    "LG.fit(X_train, y_train)\n",
    "predictions = LG.predict(X_test)\n",
    "print(accuracy_score(y_test, predictions))\n",
    "\n",
    "print(\"Confusion Matrix:\")\n",
    "print(confusion_matrix(y_test, predictions))\n",
    "print()\n",
    "print(\"LG: Classification Report\")\n",
    "print(classification_report(y_test, predictions))"
   ]
  },
  {
   "cell_type": "code",
   "execution_count": 37,
   "metadata": {},
   "outputs": [
    {
     "name": "stdout",
     "output_type": "stream",
     "text": [
      "0.5968624589565852\n",
      "Confusion Matrix:\n",
      "[[1526  937]\n",
      " [ 168  110]]\n",
      "\n",
      "LDA: Classification Report\n",
      "              precision    recall  f1-score   support\n",
      "\n",
      "         0.0       0.90      0.62      0.73      2463\n",
      "         1.0       0.11      0.40      0.17       278\n",
      "\n",
      "    accuracy                           0.60      2741\n",
      "   macro avg       0.50      0.51      0.45      2741\n",
      "weighted avg       0.82      0.60      0.68      2741\n",
      "\n"
     ]
    }
   ],
   "source": [
    "LDA = LinearDiscriminantAnalysis()\n",
    "LDA.fit(X_train, y_train)\n",
    "predictions = LDA.predict(X_test)\n",
    "print(accuracy_score(y_test, predictions))\n",
    "\n",
    "print(\"Confusion Matrix:\")\n",
    "print(confusion_matrix(y_test, predictions))\n",
    "print()\n",
    "print(\"LDA: Classification Report\")\n",
    "print(classification_report(y_test, predictions))\n"
   ]
  },
  {
   "cell_type": "code",
   "execution_count": null,
   "metadata": {},
   "outputs": [],
   "source": []
  }
 ],
 "metadata": {
  "kernelspec": {
   "display_name": "Python 3",
   "language": "python",
   "name": "python3"
  },
  "language_info": {
   "codemirror_mode": {
    "name": "ipython",
    "version": 3
   },
   "file_extension": ".py",
   "mimetype": "text/x-python",
   "name": "python",
   "nbconvert_exporter": "python",
   "pygments_lexer": "ipython3",
   "version": "3.7.7"
  }
 },
 "nbformat": 4,
 "nbformat_minor": 4
}
